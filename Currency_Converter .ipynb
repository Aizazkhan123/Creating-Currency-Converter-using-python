{
 "cells": [
  {
   "cell_type": "markdown",
   "id": "surprised-insured",
   "metadata": {},
   "source": [
    "# Creating Currency Converter with the help of Tkinter(Python GUI)"
   ]
  },
  {
   "cell_type": "code",
   "execution_count": null,
   "id": "cloudy-senior",
   "metadata": {},
   "outputs": [],
   "source": [
    "converter = Tk()\n",
    "converter.title(\"Unit Converter\")\n",
    "converter.geometry(\"700x400\")\n",
    "\n",
    "OPTIONS = {\n",
    "    \"Afghan Afghani\":1.98,\n",
    "    \"Brazilian dollar\":87.07,\n",
    "    \"Chinese Yuan\":26.37,\n",
    "    \"Austrialian Dollar\":124.20,\n",
    "    \"Euro\":200.47,\n",
    "    \"HongKong Dollar\":8.83,\n",
    "    \"Indonesian Rupiah\":2.31,\n",
    "    \"Japanese Yen\":1.55,\n",
    "    \"indian Rupee\":2.31,\n",
    "    \"SriLankan Rupee\":0.86,\n",
    "    \"Swiss Franc\": 184.64,\n",
    "    \"Us Dollar\":169.61\n",
    "        }\n",
    "\n",
    "def ok():\n",
    "    price = rupees.get()\n",
    "    answer = variable1.get()\n",
    "    DICT = OPTIONS.get(answer,None)\n",
    "    converted = float(DICT)*float(price)\n",
    "    result.delete(1.0,END)\n",
    "    result.insert(INSERT,\"Price in \",INSERT,answer,INSERT,\" = \",INSERT,converted)\n",
    "appName = Label(converter,text=\" Pakistan Currency Converter\",font=(\"arial\",25,\"bold\",\"underline\"),fg=\"dark red\")\n",
    "appName.place(x=150, y=10)\n",
    "\n",
    "result = Text(converter,height=5,width=50,font=(\"arial\",10,\"bold\"),bd=5)\n",
    "result.place(x=125, y=60)\n",
    "\n",
    "pakistan = Label(converter,text=\"Value in Pakistani Rupees:\",font=(\"arial\",10,\"bold\"),fg=\"red\")\n",
    "pakistan.place(x=30, y=165)\n",
    "\n",
    "rupees = Entry(converter,font=(\"arial\",20))\n",
    "rupees.place(x=200, y=160)\n",
    "\n",
    "choice = Label(converter,text=\"Choice:\",font=(\"arial\",10,\"bold\"),fg=\"red\")\n",
    "choice.place(x=30, y=220)\n",
    "\n",
    "variable1 = StringVar(converter)\n",
    "variable1.set(None)\n",
    "option = OptionMenu(converter,variable1,*OPTIONS)\n",
    "option.place(x=100 , y=210,width=100, height=40)\n",
    "\n",
    "button = Button(converter,text=\"Convert\",fg=\"green\",font=(\"arial\",20),bg=\"powder blue\",command=ok)\n",
    "button.place(x=200, y=210,height=40,width=150)\n",
    "\n",
    "\n",
    "\n",
    "\n",
    "\n",
    "\n",
    "\n",
    "\n",
    "converter.mainloop()"
   ]
  },
  {
   "cell_type": "code",
   "execution_count": null,
   "id": "better-count",
   "metadata": {},
   "outputs": [],
   "source": []
  }
 ],
 "metadata": {
  "kernelspec": {
   "display_name": "Python 3",
   "language": "python",
   "name": "python3"
  },
  "language_info": {
   "codemirror_mode": {
    "name": "ipython",
    "version": 3
   },
   "file_extension": ".py",
   "mimetype": "text/x-python",
   "name": "python",
   "nbconvert_exporter": "python",
   "pygments_lexer": "ipython3",
   "version": "3.7.6"
  }
 },
 "nbformat": 4,
 "nbformat_minor": 5
}
